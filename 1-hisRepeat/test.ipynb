{
 "cells": [
  {
   "cell_type": "code",
   "execution_count": 1,
   "metadata": {},
   "outputs": [],
   "source": [
    "import numpy as np"
   ]
  },
  {
   "cell_type": "code",
   "execution_count": 2,
   "metadata": {},
   "outputs": [],
   "source": [
    "def readCSVasFloat(filename):\n",
    "    \"\"\"\n",
    "    Borrowed from SRNN code. Reads a csv and returns a float matrix.\n",
    "    https://github.com/asheshjain399/NeuralModels/blob/master/neuralmodels/utils.py#L34\n",
    "\n",
    "    Args\n",
    "      filename: string. Path to the csv file\n",
    "    Returns\n",
    "      returnArray: the read data in a float32 matrix\n",
    "    \"\"\"\n",
    "    returnArray = []\n",
    "    lines = open(filename).readlines()\n",
    "    for line in lines:\n",
    "        line = line.strip().split(',')\n",
    "        if len(line) > 0:\n",
    "            returnArray.append(np.array([np.float32(x) for x in line]))\n",
    "\n",
    "    returnArray = np.array(returnArray)\n",
    "    return returnArray"
   ]
  },
  {
   "cell_type": "code",
   "execution_count": 3,
   "metadata": {},
   "outputs": [
    {
     "data": {
      "text/plain": [
       "array([[ 0.       ,  0.       ,  0.       , ..., -0.       , -0.       ,\n",
       "        -0.       ],\n",
       "       [ 0.2240568, -0.0276901, -0.7433901, ..., -0.       , -0.       ,\n",
       "        -0.       ],\n",
       "       [ 0.2265533, -0.0416827, -0.7742717, ..., -0.       , -0.       ,\n",
       "        -0.       ],\n",
       "       ...,\n",
       "       [-0.0872099, -0.0642151, -0.0115603, ..., -0.       , -0.       ,\n",
       "        -0.       ],\n",
       "       [-0.1061072, -0.033247 , -0.0281429, ..., -0.       , -0.       ,\n",
       "        -0.       ],\n",
       "       [-0.1078747,  0.0377814,  0.0266781, ..., -0.       , -0.       ,\n",
       "        -0.       ]], dtype=float32)"
      ]
     },
     "execution_count": 3,
     "metadata": {},
     "output_type": "execute_result"
    }
   ],
   "source": [
    "filename = r'F:/paper/hisRepeat/datasets/h3.6m/S1/directions_1.txt'\n",
    "readCSVasFloat(filename)"
   ]
  },
  {
   "cell_type": "code",
   "execution_count": 5,
   "metadata": {},
   "outputs": [],
   "source": [
    "a = np.random.randint(0,10,(3))"
   ]
  },
  {
   "cell_type": "code",
   "execution_count": 6,
   "metadata": {},
   "outputs": [
    {
     "ename": "ValueError",
     "evalue": "axes don't match array",
     "output_type": "error",
     "traceback": [
      "\u001b[1;31m---------------------------------------------------------------------------\u001b[0m",
      "\u001b[1;31mValueError\u001b[0m                                Traceback (most recent call last)",
      "\u001b[1;32mf:\\paper\\hisRepeat\\test.ipynb Cell 5\u001b[0m in \u001b[0;36m<cell line: 1>\u001b[1;34m()\u001b[0m\n\u001b[1;32m----> <a href='vscode-notebook-cell:/f%3A/paper/hisRepeat/test.ipynb#W4sZmlsZQ%3D%3D?line=0'>1</a>\u001b[0m a\u001b[39m.\u001b[39;49mtranspose(\u001b[39m1\u001b[39;49m,\u001b[39m2\u001b[39;49m)\n",
      "\u001b[1;31mValueError\u001b[0m: axes don't match array"
     ]
    }
   ],
   "source": [
    "a.transpose(1,2)"
   ]
  },
  {
   "cell_type": "code",
   "execution_count": null,
   "metadata": {},
   "outputs": [],
   "source": []
  }
 ],
 "metadata": {
  "kernelspec": {
   "display_name": "Python 3.10.6 ('pytorch')",
   "language": "python",
   "name": "python3"
  },
  "language_info": {
   "codemirror_mode": {
    "name": "ipython",
    "version": 3
   },
   "file_extension": ".py",
   "mimetype": "text/x-python",
   "name": "python",
   "nbconvert_exporter": "python",
   "pygments_lexer": "ipython3",
   "version": "3.10.6"
  },
  "orig_nbformat": 4,
  "vscode": {
   "interpreter": {
    "hash": "ae51ee3d492f24e83e77a52eb34bf16365894f8747390aa8e17995579dedf394"
   }
  }
 },
 "nbformat": 4,
 "nbformat_minor": 2
}
